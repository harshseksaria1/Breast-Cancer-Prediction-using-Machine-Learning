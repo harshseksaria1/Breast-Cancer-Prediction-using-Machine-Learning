{
 "cells": [
  {
   "cell_type": "markdown",
   "metadata": {},
   "source": [
    "# Classification technique on the Breast Cancer dataset"
   ]
  },
  {
   "cell_type": "markdown",
   "metadata": {},
   "source": [
    "## Setup"
   ]
  },
  {
   "cell_type": "code",
   "execution_count": 1,
   "metadata": {},
   "outputs": [],
   "source": [
    "%matplotlib inline\n",
    "# import necessary libraries and specify that graphs should be plotted inline. \n",
    "from sklearn.datasets import load_breast_cancer\n",
    "from sklearn import tree,linear_model,neighbors, datasets\n",
    "from sklearn.model_selection import cross_val_score, train_test_split,GridSearchCV\n",
    "from sklearn.metrics import accuracy_score,confusion_matrix,classification_report\n",
    "from sklearn.utils.multiclass import unique_labels\n",
    "from sklearn.exceptions import ConvergenceWarning\n",
    "import matplotlib.pyplot as plt\n",
    "import numpy as np"
   ]
  },
  {
   "cell_type": "code",
   "execution_count": 2,
   "metadata": {},
   "outputs": [],
   "source": [
    "# Ignoring warnings for clean output\n",
    "import warnings\n",
    "warnings.filterwarnings(\"ignore\", category=FutureWarning)\n",
    "warnings.filterwarnings(\"ignore\", category=ConvergenceWarning)\n",
    "warnings.filterwarnings(\"ignore\", category=DeprecationWarning)"
   ]
  },
  {
   "cell_type": "code",
   "execution_count": 3,
   "metadata": {},
   "outputs": [],
   "source": [
    "#Code to plot confusion matrix\n",
    "def plot_confusion_matrix(y_true, y_pred, classes,\n",
    "                          normalize=False,\n",
    "                          title=None,\n",
    "                          cmap=plt.cm.Blues):\n",
    "    \"\"\"\n",
    "    This function prints and plots the confusion matrix.\n",
    "    Normalization can be applied by setting `normalize=True`.\n",
    "    \"\"\"\n",
    "    if not title:\n",
    "        if normalize:\n",
    "            title = 'Normalized confusion matrix'\n",
    "        else:\n",
    "            title = 'Confusion matrix, without normalization'\n",
    "\n",
    "    # Compute confusion matrix\n",
    "    cm = confusion_matrix(y_true, y_pred)\n",
    "    # Only use the labels that appear in the data\n",
    "    classes = classes[unique_labels(y_true, y_pred)]\n",
    "    if normalize:\n",
    "        cm = cm.astype('float') / cm.sum(axis=1)[:, np.newaxis]\n",
    "        #print(\"Normalized confusion matrix\")\n",
    "    else:\n",
    "        \"\"\n",
    "        #print('Confusion matrix, without normalization')\n",
    "\n",
    "    #print(cm)\n",
    "\n",
    "    fig, ax = plt.subplots()\n",
    "    im = ax.imshow(cm, interpolation='nearest', cmap=cmap)\n",
    "    ax.figure.colorbar(im, ax=ax)\n",
    "    # We want to show all ticks...\n",
    "    ax.set(xticks=np.arange(cm.shape[1]),\n",
    "           yticks=np.arange(cm.shape[0]),\n",
    "           # ... and label them with the respective list entries\n",
    "           xticklabels=classes, yticklabels=classes,\n",
    "           title=title,\n",
    "           ylabel='True',\n",
    "           xlabel='Predicted')\n",
    "\n",
    "    # Rotate the tick labels and set their alignment.\n",
    "    plt.setp(ax.get_xticklabels(), rotation=45, ha=\"right\",\n",
    "             rotation_mode=\"anchor\")\n",
    "\n",
    "    # Loop over data dimensions and create text annotations.\n",
    "    fmt = '.2f' if normalize else 'd'\n",
    "    thresh = cm.max() / 2.\n",
    "    for i in range(cm.shape[0]):\n",
    "        for j in range(cm.shape[1]):\n",
    "            ax.text(j, i, format(cm[i, j], fmt),\n",
    "                    ha=\"center\", va=\"center\",\n",
    "                    color=\"white\" if cm[i, j] > thresh else \"black\")\n",
    "    fig.tight_layout()\n",
    "    return ax\n",
    "\n",
    "\n",
    "np.set_printoptions(precision=2)"
   ]
  },
  {
   "cell_type": "markdown",
   "metadata": {},
   "source": [
    "## Loading and Exploring the data"
   ]
  },
  {
   "cell_type": "code",
   "execution_count": 4,
   "metadata": {
    "scrolled": false
   },
   "outputs": [
    {
     "name": "stdout",
     "output_type": "stream",
     "text": [
      ".. _breast_cancer_dataset:\n",
      "\n",
      "Breast cancer wisconsin (diagnostic) dataset\n",
      "--------------------------------------------\n",
      "\n",
      "**Data Set Characteristics:**\n",
      "\n",
      "    :Number of Instances: 569\n",
      "\n",
      "    :Number of Attributes: 30 numeric, predictive attributes and the class\n",
      "\n",
      "    :Attribute Information:\n",
      "        - radius (mean of distances from center to points on the perimeter)\n",
      "        - texture (standard deviation of gray-scale values)\n",
      "        - perimeter\n",
      "        - area\n",
      "        - smoothness (local variation in radius lengths)\n",
      "        - compactness (perimeter^2 / area - 1.0)\n",
      "        - concavity (severity of concave portions of the contour)\n",
      "        - concave points (number of concave portions of the contour)\n",
      "        - symmetry \n",
      "        - fractal dimension (\"coastline approximation\" - 1)\n",
      "\n",
      "        The mean, standard error, and \"worst\" or largest (mean of the three\n",
      "        largest values) of these features were computed for each image,\n",
      "        resulting in 30 features.  For instance, field 3 is Mean Radius, field\n",
      "        13 is Radius SE, field 23 is Worst Radius.\n",
      "\n",
      "        - class:\n",
      "                - WDBC-Malignant\n",
      "                - WDBC-Benign\n",
      "\n",
      "    :Summary Statistics:\n",
      "\n",
      "    ===================================== ====== ======\n",
      "                                           Min    Max\n",
      "    ===================================== ====== ======\n",
      "    radius (mean):                        6.981  28.11\n",
      "    texture (mean):                       9.71   39.28\n",
      "    perimeter (mean):                     43.79  188.5\n",
      "    area (mean):                          143.5  2501.0\n",
      "    smoothness (mean):                    0.053  0.163\n",
      "    compactness (mean):                   0.019  0.345\n",
      "    concavity (mean):                     0.0    0.427\n",
      "    concave points (mean):                0.0    0.201\n",
      "    symmetry (mean):                      0.106  0.304\n",
      "    fractal dimension (mean):             0.05   0.097\n",
      "    radius (standard error):              0.112  2.873\n",
      "    texture (standard error):             0.36   4.885\n",
      "    perimeter (standard error):           0.757  21.98\n",
      "    area (standard error):                6.802  542.2\n",
      "    smoothness (standard error):          0.002  0.031\n",
      "    compactness (standard error):         0.002  0.135\n",
      "    concavity (standard error):           0.0    0.396\n",
      "    concave points (standard error):      0.0    0.053\n",
      "    symmetry (standard error):            0.008  0.079\n",
      "    fractal dimension (standard error):   0.001  0.03\n",
      "    radius (worst):                       7.93   36.04\n",
      "    texture (worst):                      12.02  49.54\n",
      "    perimeter (worst):                    50.41  251.2\n",
      "    area (worst):                         185.2  4254.0\n",
      "    smoothness (worst):                   0.071  0.223\n",
      "    compactness (worst):                  0.027  1.058\n",
      "    concavity (worst):                    0.0    1.252\n",
      "    concave points (worst):               0.0    0.291\n",
      "    symmetry (worst):                     0.156  0.664\n",
      "    fractal dimension (worst):            0.055  0.208\n",
      "    ===================================== ====== ======\n",
      "\n",
      "    :Missing Attribute Values: None\n",
      "\n",
      "    :Class Distribution: 212 - Malignant, 357 - Benign\n",
      "\n",
      "    :Creator:  Dr. William H. Wolberg, W. Nick Street, Olvi L. Mangasarian\n",
      "\n",
      "    :Donor: Nick Street\n",
      "\n",
      "    :Date: November, 1995\n",
      "\n",
      "This is a copy of UCI ML Breast Cancer Wisconsin (Diagnostic) datasets.\n",
      "https://goo.gl/U2Uwz2\n",
      "\n",
      "Features are computed from a digitized image of a fine needle\n",
      "aspirate (FNA) of a breast mass.  They describe\n",
      "characteristics of the cell nuclei present in the image.\n",
      "\n",
      "Separating plane described above was obtained using\n",
      "Multisurface Method-Tree (MSM-T) [K. P. Bennett, \"Decision Tree\n",
      "Construction Via Linear Programming.\" Proceedings of the 4th\n",
      "Midwest Artificial Intelligence and Cognitive Science Society,\n",
      "pp. 97-101, 1992], a classification method which uses linear\n",
      "programming to construct a decision tree.  Relevant features\n",
      "were selected using an exhaustive search in the space of 1-4\n",
      "features and 1-3 separating planes.\n",
      "\n",
      "The actual linear program used to obtain the separating plane\n",
      "in the 3-dimensional space is that described in:\n",
      "[K. P. Bennett and O. L. Mangasarian: \"Robust Linear\n",
      "Programming Discrimination of Two Linearly Inseparable Sets\",\n",
      "Optimization Methods and Software 1, 1992, 23-34].\n",
      "\n",
      "This database is also available through the UW CS ftp server:\n",
      "\n",
      "ftp ftp.cs.wisc.edu\n",
      "cd math-prog/cpo-dataset/machine-learn/WDBC/\n",
      "\n",
      ".. topic:: References\n",
      "\n",
      "   - W.N. Street, W.H. Wolberg and O.L. Mangasarian. Nuclear feature extraction \n",
      "     for breast tumor diagnosis. IS&T/SPIE 1993 International Symposium on \n",
      "     Electronic Imaging: Science and Technology, volume 1905, pages 861-870,\n",
      "     San Jose, CA, 1993.\n",
      "   - O.L. Mangasarian, W.N. Street and W.H. Wolberg. Breast cancer diagnosis and \n",
      "     prognosis via linear programming. Operations Research, 43(4), pages 570-577, \n",
      "     July-August 1995.\n",
      "   - W.H. Wolberg, W.N. Street, and O.L. Mangasarian. Machine learning techniques\n",
      "     to diagnose breast cancer from fine-needle aspirates. Cancer Letters 77 (1994) \n",
      "     163-171.\n"
     ]
    }
   ],
   "source": [
    "# load the data set\n",
    "bc = load_breast_cancer()\n",
    "print(bc.DESCR)"
   ]
  },
  {
   "cell_type": "code",
   "execution_count": 5,
   "metadata": {},
   "outputs": [
    {
     "name": "stdout",
     "output_type": "stream",
     "text": [
      "dict_keys(['data', 'target', 'target_names', 'DESCR', 'feature_names', 'filename'])\n",
      "The dimensions of the data set are  569 by 30\n",
      "\n",
      "(569, 30)\n",
      "(569,)\n",
      "\n",
      "The classes are: \n",
      " ['malignant' 'benign']\n",
      "\n",
      "The features in the data set are:\n",
      " ['mean radius' 'mean texture' 'mean perimeter' 'mean area'\n",
      " 'mean smoothness' 'mean compactness' 'mean concavity'\n",
      " 'mean concave points' 'mean symmetry' 'mean fractal dimension'\n",
      " 'radius error' 'texture error' 'perimeter error' 'area error'\n",
      " 'smoothness error' 'compactness error' 'concavity error'\n",
      " 'concave points error' 'symmetry error' 'fractal dimension error'\n",
      " 'worst radius' 'worst texture' 'worst perimeter' 'worst area'\n",
      " 'worst smoothness' 'worst compactness' 'worst concavity'\n",
      " 'worst concave points' 'worst symmetry' 'worst fractal dimension']\n"
     ]
    }
   ],
   "source": [
    "## Explore the data set\n",
    "n_samples, n_features = bc.data.shape\n",
    "print(bc.keys())\n",
    "print ('The dimensions of the data set are ', n_samples, 'by', n_features)\n",
    "print()\n",
    "print(bc.data.shape)\n",
    "print(bc.target.shape)\n",
    "print()\n",
    "print('The classes are: \\n', bc.target_names)\n",
    "print()\n",
    "print('The features in the data set are:\\n', bc.feature_names)"
   ]
  },
  {
   "cell_type": "markdown",
   "metadata": {},
   "source": [
    "## 1.Decision Trees "
   ]
  },
  {
   "cell_type": "markdown",
   "metadata": {},
   "source": [
    "### Modeling"
   ]
  },
  {
   "cell_type": "markdown",
   "metadata": {},
   "source": [
    "Initialized the classifier with hyper-parameter **max_depth = 3** as the starting point as the Wisconsin Diagnostic Breast Cancer names file mentions that the best accuracy was received using 3 parameters - Worst Area, Worst Smoothness and Mean Texture"
   ]
  },
  {
   "cell_type": "code",
   "execution_count": 6,
   "metadata": {},
   "outputs": [],
   "source": [
    "# We start with initializing our classifier.\n",
    "clf = tree.DecisionTreeClassifier(max_depth = 3)"
   ]
  },
  {
   "cell_type": "code",
   "execution_count": 7,
   "metadata": {},
   "outputs": [
    {
     "name": "stdout",
     "output_type": "stream",
     "text": [
      "Accuracy: 94.15%\n",
      "\n",
      "Classification Report: - \n",
      "               precision    recall  f1-score   support\n",
      "\n",
      "           0       0.95      0.88      0.92        68\n",
      "           1       0.94      0.97      0.96       120\n",
      "\n",
      "   micro avg       0.94      0.94      0.94       188\n",
      "   macro avg       0.94      0.93      0.94       188\n",
      "weighted avg       0.94      0.94      0.94       188\n",
      "\n"
     ]
    },
    {
     "data": {
      "image/png": "[encoded data removed]",
      "text/plain": [
       "<Figure size 432x288 with 2 Axes>"
      ]
     },
     "metadata": {
      "needs_background": "light"
     },
     "output_type": "display_data"
    }
   ],
   "source": [
    "## Train the model (fit the data)\n",
    "X_train, X_test, y_train, y_test = train_test_split(bc.data, bc.target, test_size=0.33,random_state=45)\n",
    "clf = clf.fit(X_train, y_train)\n",
    "y_pred = clf.predict(X_test)\n",
    "print(\"Accuracy: {0:.2%}\".format(accuracy_score(y_test, y_pred)))\n",
    "print()\n",
    "plot_confusion_matrix(y_test, y_pred, classes=bc.target_names,\n",
    "                      title='Confusion matrix')\n",
    "print(\"Classification Report: - \\n\",classification_report(y_test, y_pred))"
   ]
  },
  {
   "cell_type": "code",
   "execution_count": 8,
   "metadata": {},
   "outputs": [
    {
     "name": "stdout",
     "output_type": "stream",
     "text": [
      "The 1st instance is predicted to belong to class: [0]\n",
      "The probabilities of belonging to each one of the classes are estimated as: [[1. 0.]]\n"
     ]
    }
   ],
   "source": [
    "# After being fitted, the model can then be used to predict the class of samples:\n",
    "print('The 1st instance is predicted to belong to class:', clf.predict(bc.data[:1, :]))\n",
    "# Here we predict the class of a single value\n",
    "\n",
    "# Alternatively, the probability of each class can be predicted, which is the fraction of training samples of the same class in a leaf:\n",
    "print('The probabilities of belonging to each one of the classes are estimated as:', clf.predict_proba(bc.data[:1, :]))\n",
    "# Here you can see the probability of each one of the classes"
   ]
  },
  {
   "cell_type": "markdown",
   "metadata": {},
   "source": [
    "Hyper-parameter max_depth = 3 gives us a Accuracy of 94.15%.\n",
    "\n",
    "Accuracy can be deceiving as it doesn't take into account false negatives. Being a medical case, breast cancer classification should minimize false negatives as this can lead lead to a persons death.\n",
    "\n",
    "I am selecting F1-score for selecting the best estimator because it is a better measure than accuracy as this score takes both false positives and false negatives into account.\n",
    "\n",
    "We get a weighted f1 score of 94% using this model which is a good starting point. Lets see if this can be improved by tuning the hyper parameters.\n",
    "\n",
    "### Tuning the hyper-parameters\n",
    "\n",
    "Now we see what is the best max-depth for maximizing accuracy in the test data. \n",
    "\n",
    "The **max-depth** of a tree defines the number of features used to classify the data. Using very few features would result in underfitting and using a lot of features would lead to over-fitting.\n",
    "\n",
    "We also look at both criterions **gini** and **entropy** to see which gives us a better accuracy"
   ]
  },
  {
   "cell_type": "code",
   "execution_count": 9,
   "metadata": {},
   "outputs": [
    {
     "data": {
      "image/png": "[encoded data removed]",
      "text/plain": [
       "<Figure size 432x288 with 1 Axes>"
      ]
     },
     "metadata": {
      "needs_background": "light"
     },
     "output_type": "display_data"
    },
    {
     "data": {
      "image/png": "[encoded data removed]",
      "text/plain": [
       "<Figure size 432x288 with 1 Axes>"
      ]
     },
     "metadata": {
      "needs_background": "light"
     },
     "output_type": "display_data"
    }
   ],
   "source": [
    "# Optimize decision tree and detect (potential) over-fitting\n",
    "complexity_values = range(1,30)\n",
    "\n",
    "X_train, X_test, y_train, y_test = train_test_split(bc.data, bc.target, test_size=0.33, random_state=45)\n",
    "\n",
    "train_accuracies = []\n",
    "test_accuracies=[]\n",
    "\n",
    "for complexity_value in complexity_values:\n",
    "    clf = tree.DecisionTreeClassifier(criterion=\"gini\", max_depth=complexity_value)\n",
    "    test_accuracies.append(clf.fit(X_train, y_train).score(X_test, y_test))\n",
    "    train_accuracies.append(clf.fit(X_train, y_train).score(X_train, y_train))\n",
    "    \n",
    "# We want to plot our results\n",
    "line1, =plt.plot(complexity_values, test_accuracies,label='test_accuracies')\n",
    "line2, =plt.plot(complexity_values, train_accuracies,label='train_accuracies')\n",
    "plt.xlabel(\"max_depth (with gini)\")\n",
    "plt.ylabel(\"Accuracy\")\n",
    "plt.legend((line1, line2), ('test', 'train'))\n",
    "plt.show()\n",
    "\n",
    "train_accuracies = []\n",
    "test_accuracies=[]\n",
    "\n",
    "for complexity_value in complexity_values:\n",
    "    clf = tree.DecisionTreeClassifier(criterion=\"entropy\", max_depth=complexity_value)\n",
    "    test_accuracies.append(clf.fit(X_train, y_train).score(X_test, y_test))\n",
    "    train_accuracies.append(clf.fit(X_train, y_train).score(X_train, y_train))\n",
    "    \n",
    "# We want to plot our results\n",
    "line1, =plt.plot(complexity_values, test_accuracies,label='test_accuracies')\n",
    "line2, =plt.plot(complexity_values, train_accuracies,label='train_accuracies')\n",
    "plt.xlabel(\"max_depth with entropy\")\n",
    "plt.ylabel(\"Accuracy\")\n",
    "plt.legend((line1, line2), ('test', 'train'))\n",
    "plt.show()"
   ]
  },
  {
   "cell_type": "markdown",
   "metadata": {},
   "source": [
    "We plot a graph of train and test accuracy w.r.t max_depth and we can see that accuracy for the test data is maximum and close to the training data at **max_depth = 5 & criterion = \"gini\"**\n",
    "\n",
    "**Underfitting** : If we use max_depth = 1, this would be under-fitting as we are using only one parameter to classify the the data. As seen in the above graph, our test and train accuracies are pretty low when max_depth is lower (1/2)\n",
    "\n",
    "**Overfitting** : If our max_depth is large i.e greater than 6, we see 100% accuracy in the training data but the accuracy for test data is fluctuating. This is a case of over-fitting so we definitely want the max deph to be less than 6, and max_depth = 4 satisfies this condition."
   ]
  },
  {
   "cell_type": "markdown",
   "metadata": {},
   "source": [
    "### Cross Validation with max_depth = 5 & criterion = \"gini\""
   ]
  },
  {
   "cell_type": "code",
   "execution_count": 13,
   "metadata": {},
   "outputs": [
    {
     "name": "stdout",
     "output_type": "stream",
     "text": [
      "Accuracy: 92.05% +/- 4.58%\n",
      "The 1st instance is predicted to belong to class: [0]\n",
      "The probabilities of belonging to each one of the classes are estimated as: [[1. 0.]]\n"
     ]
    }
   ],
   "source": [
    "#Selecting max_depth = 5 and criterion = \"gini\"\n",
    "X_train,X_test,y_train,y_test = train_test_split(bc.data, bc.target,test_size=0.33, random_state=45)\n",
    "clf = tree.DecisionTreeClassifier(criterion=\"gini\", max_depth = 5)\n",
    "clf.fit(X_train, y_train)\n",
    "scores = cross_val_score(clf, X_test, y_test, cv=5)\n",
    "print(\"Accuracy: {0:.2%} +/- {1:.2%}\".format(scores.mean(), scores.std() * 2))\n",
    "print('The 1st instance is predicted to belong to class:', clf.predict(bc.data[:1, :]))\n",
    "print('The probabilities of belonging to each one of the classes are estimated as:', clf.predict_proba(bc.data[:1, :]))"
   ]
  },
  {
   "cell_type": "markdown",
   "metadata": {},
   "source": [
    "Hyper-parameter **max_depth = 5** gives us a **Accuracy of 92.05% +/- 4.58%** using a 5 fold cross-validation which is lesser than max_depth = 3 (which is 94.15%).\n",
    "So these might not be the best parameters to chose as they have a high standard deviation of 4.58%"
   ]
  },
  {
   "cell_type": "markdown",
   "metadata": {},
   "source": [
    "### Tuning parameters further with grid search"
   ]
  },
  {
   "cell_type": "markdown",
   "metadata": {},
   "source": [
    "To search for the best parameters, we run a grid search with the following hyper parameters\n",
    "\n",
    "1. criterion : to find an optimal criterion to calculate impurity of a node\n",
    "2. max_depth : to search for the optimal number of features used for classification. Setting the right value for the max_depth (i.e. the number of features used for classification) is crucial to avoid overfitting or underfitting\n",
    "3. min_samples_leaf : to search for the optimal minimum number of samples required to form a leaf\n",
    "4. min_impurity_decrease : to search for the optimal minimum impurity decrease to split a node. If this split induces a decrease of the impurity greater than or equal to min_impurity_decrease only then the split will happen. This prevents splits where information gain is very low.\n",
    "\n",
    "Being a medical case, breast cancer classification should **minimize false negatives** as this can lead lead to a persons death.\n",
    "\n",
    "I am selecting **F1-score** for selecting the best estimator because it is a better measure than accuracy as this score takes both false positives and false negatives into account. "
   ]
  },
  {
   "cell_type": "code",
   "execution_count": 14,
   "metadata": {},
   "outputs": [
    {
     "name": "stdout",
     "output_type": "stream",
     "text": [
      "{'criterion': ['gini', 'entropy'], 'max_depth': range(1, 15), 'min_samples_leaf': range(1, 10), 'min_impurity_decrease': [0, 1e-08, 1e-07, 1e-06, 1e-05, 0.0001]}\n"
     ]
    },
    {
     "data": {
      "text/plain": [
       "GridSearchCV(cv=5, error_score='raise-deprecating',\n",
       "       estimator=DecisionTreeClassifier(class_weight=None, criterion='gini', max_depth=None,\n",
       "            max_features=None, max_leaf_nodes=None,\n",
       "            min_impurity_decrease=0.0, min_impurity_split=None,\n",
       "            min_samples_leaf=1, min_samples_split=2,\n",
       "            min_weight_fraction_leaf=0.0, presort=False, random_state=None,\n",
       "            splitter='best'),\n",
       "       fit_params=None, iid='warn', n_jobs=None,\n",
       "       param_grid={'criterion': ['gini', 'entropy'], 'max_depth': range(1, 15), 'min_samples_leaf': range(1, 10), 'min_impurity_decrease': [0, 1e-08, 1e-07, 1e-06, 1e-05, 0.0001]},\n",
       "       pre_dispatch='2*n_jobs', refit=True, return_train_score='warn',\n",
       "       scoring='f1', verbose=0)"
      ]
     },
     "execution_count": 14,
     "metadata": {},
     "output_type": "execute_result"
    }
   ],
   "source": [
    "X_train,X_test,y_train,y_test = train_test_split(bc.data, bc.target,test_size=0.33,random_state=45)\n",
    "param_grid = dict(criterion = [\"gini\", \"entropy\"], \n",
    "                  max_depth = range(1,15),\n",
    "                  min_samples_leaf = range(1,10),\n",
    "                  min_impurity_decrease = [0,1e-8,1e-7,1e-6,1e-5,1e-4]\n",
    "                 )\n",
    "print (param_grid)\n",
    "grid_tree_clf = tree.DecisionTreeClassifier()\n",
    "grid = GridSearchCV(grid_tree_clf, param_grid, cv = 5, scoring='f1')\n",
    "grid.fit(X_train,y_train)"
   ]
  },
  {
   "cell_type": "code",
   "execution_count": 15,
   "metadata": {},
   "outputs": [
    {
     "name": "stdout",
     "output_type": "stream",
     "text": [
      "Using grid search, we acheive hyper parameters with accuracy of 95.67%\n",
      "\n",
      "The best hyper-parameters to get these accuracy are :-\n",
      " {'criterion': 'gini', 'max_depth': 3, 'min_impurity_decrease': 1e-07, 'min_samples_leaf': 4}\n",
      "\n",
      "The best decision tree classifier is :-\n",
      " DecisionTreeClassifier(class_weight=None, criterion='gini', max_depth=3,\n",
      "            max_features=None, max_leaf_nodes=None,\n",
      "            min_impurity_decrease=1e-07, min_impurity_split=None,\n",
      "            min_samples_leaf=4, min_samples_split=2,\n",
      "            min_weight_fraction_leaf=0.0, presort=False, random_state=None,\n",
      "            splitter='best')\n",
      "Classification Report: - \n",
      "               precision    recall  f1-score   support\n",
      "\n",
      "           0       0.95      0.88      0.92        68\n",
      "           1       0.94      0.97      0.96       120\n",
      "\n",
      "   micro avg       0.94      0.94      0.94       188\n",
      "   macro avg       0.94      0.93      0.94       188\n",
      "weighted avg       0.94      0.94      0.94       188\n",
      "\n"
     ]
    },
    {
     "data": {
      "image/png": "[encoded data removed]",
      "text/plain": [
       "<Figure size 432x288 with 2 Axes>"
      ]
     },
     "metadata": {
      "needs_background": "light"
     },
     "output_type": "display_data"
    }
   ],
   "source": [
    "print (\"Using grid search, we acheive hyper parameters with accuracy of {0:.2%}\".format(grid.best_score_))\n",
    "print()\n",
    "print (\"The best hyper-parameters to get these accuracy are :-\\n\", grid.best_params_)\n",
    "print()\n",
    "print (\"The best decision tree classifier is :-\\n\", grid.best_estimator_)\n",
    "y_pred = grid.best_estimator_.predict(X_test)\n",
    "plot_confusion_matrix(y_test, y_pred, classes=bc.target_names,\n",
    "                      title='Confusion matrix')\n",
    "print(\"Classification Report: - \\n\",classification_report(y_test, y_pred))"
   ]
  },
  {
   "cell_type": "markdown",
   "metadata": {},
   "source": [
    "### Results - Model Goodness"
   ]
  },
  {
   "cell_type": "markdown",
   "metadata": {},
   "source": [
    "**Model Goodness**\n",
    "The class distribution is 357 benign, 212 malignant, which would get us an accuracy of 357/(357+212) = 62.74% by majority rule, so an **Accuracy of 95.67%** by decision tree classification is a good model.\n",
    "\n",
    "Our model was chosen based of **f1-score which is 94%** which is the harmonic mean of precision and recall and hecne a good measure to determine a good fit.\n",
    "\n",
    "False Negatives can be a problem since it is a medical case and we would like to minimize the number of **false negatives which is 8** in this case.\n",
    "\n",
    "Therefore, the following Hyperparameters, 'criterion': 'gini', 'max_depth': 3, 'min_impurity_decrease': 1e-07, 'min_samples_leaf': 4 help us increase the accuracy to 95.67%, while maintaining the same f1 score of 94%."
   ]
  },
  {
   "cell_type": "markdown",
   "metadata": {},
   "source": [
    "## 2.K-Nearest Neighbours\n",
    "\n",
    "### Modeling\n",
    "\n",
    "We start by looking at the test data and training data accuracies for number of neighbours from 1 to 30."
   ]
  },
  {
   "cell_type": "code",
   "execution_count": 16,
   "metadata": {},
   "outputs": [
    {
     "data": {
      "image/png": "[encoded data removed]",
      "text/plain": [
       "<Figure size 432x288 with 1 Axes>"
      ]
     },
     "metadata": {
      "needs_background": "light"
     },
     "output_type": "display_data"
    }
   ],
   "source": [
    "n_neighbors = range(1,30)\n",
    "\n",
    "# KNeighborsClassifier is implementing the k-nearest neighbors vote\n",
    "X_train, X_test, y_train, y_test = train_test_split(bc.data, bc.target, test_size=0.33, random_state = 45)\n",
    "\n",
    "train_accuracies = []\n",
    "test_accuracies=[]\n",
    "\n",
    "for n in n_neighbors:\n",
    "    clf = neighbors.KNeighborsClassifier(n)\n",
    "    test_accuracies.append(clf.fit(X_train, y_train).score(X_test, y_test))\n",
    "    train_accuracies.append(clf.fit(X_train, y_train).score(X_train, y_train))    \n",
    "\n",
    "# We want to plot our results\n",
    "line1, =plt.plot(n_neighbors, test_accuracies,label='test_accuracies')\n",
    "line2, =plt.plot(n_neighbors, train_accuracies,label='train_accuracies')\n",
    "plt.xlabel(\"n neighbours\")\n",
    "plt.ylabel(\"Accuracy\")\n",
    "plt.xticks(range(2,30,2))\n",
    "plt.legend((line1, line2), ('test', 'train'))\n",
    "plt.show()"
   ]
  },
  {
   "cell_type": "markdown",
   "metadata": {},
   "source": [
    "We see that the test and train data accuracies converge at **n = 6 neighbours**. So we use 6 nearest neighbours as a starting point for our K Nearest Neighbours classifier\n",
    "\n",
    "**Overfitting** : If the classification is done based on very few neighbours (1 or 2), we see that the training data accuracy is very high but test data accuracy is very low. This indicates over-fitting as items are classified based on very few neighbours and classifcation may be done based on few outliers resulting in no definite boundaries for classification.\n",
    "\n",
    "**Underfitting** : Using a high number of neighbours to classify can lead to underfitting. An extreme case of this would be where all the samples are looked at for fitting which would lead to a naive (majority) rule classification."
   ]
  },
  {
   "cell_type": "markdown",
   "metadata": {},
   "source": [
    "### Cross Validation with n (neighbours) = 6"
   ]
  },
  {
   "cell_type": "code",
   "execution_count": 18,
   "metadata": {},
   "outputs": [
    {
     "name": "stdout",
     "output_type": "stream",
     "text": [
      "Accuracy: 91.47% +/- 4.18%\n",
      "The 1st instance is predicted to belong to class: [0]\n",
      "The probabilities of belonging to each one of the classes are estimated as: [[1. 0.]]\n"
     ]
    }
   ],
   "source": [
    "X_train,X_test,y_train,y_test = train_test_split(bc.data, bc.target,test_size=0.33,random_state=45)\n",
    "\n",
    "# Chosing n = 6 neighbours\n",
    "n = 6\n",
    "clf = neighbors.KNeighborsClassifier(n)\n",
    "clf.fit(X_train, y_train)\n",
    "scores = cross_val_score(clf, X_test, y_test, cv=5)\n",
    "print(\"Accuracy: {0:.2%} +/- {1:.2%}\".format(scores.mean(), scores.std() * 2))\n",
    "print('The 1st instance is predicted to belong to class:', clf.predict(bc.data[:1, :]))\n",
    "print('The probabilities of belonging to each one of the classes are estimated as:', clf.predict_proba(bc.data[:1, :]))"
   ]
  },
  {
   "cell_type": "markdown",
   "metadata": {},
   "source": [
    "Hyper-parameter **6 nearest neighbouts** gives us a **Accuracy of 91.47% +/- 4.18%** using a 5 fold cross-validation which is better than that received by Grid Search Cross Validation using Decision trees.\n",
    "\n",
    "However, the **standard deviation of 4.18% in accuracy scores is very high** and so this model might not be a good fit."
   ]
  },
  {
   "cell_type": "markdown",
   "metadata": {},
   "source": [
    "### Tuning parameters further with grid search\n",
    "\n",
    "To search for the best parameters, we run a grid search with the following hyper parameters\n",
    "\n",
    "1. weights : To check whether assigneing **uniform weights or weights based on distance** give a us better model. \n",
    "2. n_neighbors : As defined earlier, it is crucial to select an optimal number of neighbours to run the classification model."
   ]
  },
  {
   "cell_type": "code",
   "execution_count": 20,
   "metadata": {},
   "outputs": [
    {
     "name": "stdout",
     "output_type": "stream",
     "text": [
      "{'n_neighbors': [1, 2, 3, 4, 5, 6, 7, 8, 9, 10, 11, 12, 13, 14, 15, 16, 17, 18, 19, 20, 21, 22, 23, 24, 25, 26, 27, 28, 29], 'weights': ['uniform', 'distance']}\n"
     ]
    },
    {
     "data": {
      "text/plain": [
       "GridSearchCV(cv=5, error_score='raise-deprecating',\n",
       "       estimator=KNeighborsClassifier(algorithm='auto', leaf_size=30, metric='minkowski',\n",
       "           metric_params=None, n_jobs=None, n_neighbors=5, p=2,\n",
       "           weights='uniform'),\n",
       "       fit_params=None, iid='warn', n_jobs=None,\n",
       "       param_grid={'n_neighbors': [1, 2, 3, 4, 5, 6, 7, 8, 9, 10, 11, 12, 13, 14, 15, 16, 17, 18, 19, 20, 21, 22, 23, 24, 25, 26, 27, 28, 29], 'weights': ['uniform', 'distance']},\n",
       "       pre_dispatch='2*n_jobs', refit=True, return_train_score='warn',\n",
       "       scoring='f1', verbose=0)"
      ]
     },
     "execution_count": 20,
     "metadata": {},
     "output_type": "execute_result"
    }
   ],
   "source": [
    "X_train, X_test, y_train, y_test = train_test_split(bc.data, bc.target, test_size=0.33,random_state=45)\n",
    "k_range = list(range(1,30))\n",
    "weight_options = [\"uniform\", \"distance\"]\n",
    "param_grid = dict(n_neighbors = k_range, weights = weight_options)\n",
    "print (param_grid)\n",
    "grid_knn_clf = neighbors.KNeighborsClassifier()\n",
    "grid = GridSearchCV(grid_knn_clf, param_grid, cv = 5, scoring='f1')\n",
    "grid.fit(X_train,y_train)"
   ]
  },
  {
   "cell_type": "code",
   "execution_count": 22,
   "metadata": {},
   "outputs": [
    {
     "name": "stdout",
     "output_type": "stream",
     "text": [
      "Using grid search, we acheive hyper parameters with accuracy of 94.71%\n",
      "\n",
      "The best hyper-parameters to get these accuracy are :-\n",
      " {'n_neighbors': 18, 'weights': 'uniform'}\n",
      "\n",
      "The K-Nearest Neighbours classifier is :-\n",
      " KNeighborsClassifier(algorithm='auto', leaf_size=30, metric='minkowski',\n",
      "           metric_params=None, n_jobs=None, n_neighbors=18, p=2,\n",
      "           weights='uniform')\n",
      "Classification Report: - \n",
      "               precision    recall  f1-score   support\n",
      "\n",
      "           0       0.95      0.84      0.89        68\n",
      "           1       0.91      0.97      0.94       120\n",
      "\n",
      "   micro avg       0.93      0.93      0.93       188\n",
      "   macro avg       0.93      0.91      0.92       188\n",
      "weighted avg       0.93      0.93      0.92       188\n",
      "\n"
     ]
    },
    {
     "data": {
      "image/png": "[encoded data removed]",
      "text/plain": [
       "<Figure size 432x288 with 2 Axes>"
      ]
     },
     "metadata": {
      "needs_background": "light"
     },
     "output_type": "display_data"
    }
   ],
   "source": [
    "print (\"Using grid search, we acheive hyper parameters with accuracy of {0:.2%}\".format(grid.best_score_))\n",
    "print()\n",
    "print (\"The best hyper-parameters to get these accuracy are :-\\n\", grid.best_params_)\n",
    "print()\n",
    "print (\"The K-Nearest Neighbours classifier is :-\\n\", grid.best_estimator_)\n",
    "y_pred = grid.best_estimator_.predict(X_test)\n",
    "plot_confusion_matrix(y_test, y_pred, classes=bc.target_names,\n",
    "                      title='Confusion matrix')\n",
    "print(\"Classification Report: - \\n\",classification_report(y_test, y_pred))"
   ]
  },
  {
   "cell_type": "markdown",
   "metadata": {},
   "source": [
    "### Results - Model Goodness\n",
    "\n",
    "**Model Goodness**\n",
    "The class distribution is 357 benign, 212 malignant, which would get us an accuracy of 357/(357+212) = 62.74% by majority rule, so an **Accuracy of 94.71%** by k nearest neighbours is a good model.\n",
    "\n",
    "However, we see that **f1-score which is 92%** in this model with {'n_neighbors': 18, 'weights': 'uniform'} which is the harmonic mean of precision and recall and is lesser compared to decision trees. \n",
    "\n",
    "False Negatives can be a problem since it is a medical case and we would like to minimize the number of **false negatives which is 11** in this case.\n",
    "\n",
    "So far, the accuracy is almost similar to the one acheived by the decision tree classifier, however decision tree classifier has a lower number of false negatives."
   ]
  },
  {
   "cell_type": "markdown",
   "metadata": {},
   "source": [
    "## 3.Logistic regression\n",
    "\n",
    "### Modeling\n",
    "\n",
    "As a starting point, we run the Logistic regression classifer with an L1 penalty as a hyper parameter. This is used of regularization of the co-efficients. L1 is useful as it can push feature coefficients to 0, creating a method for feature selection."
   ]
  },
  {
   "cell_type": "code",
   "execution_count": 23,
   "metadata": {},
   "outputs": [
    {
     "name": "stdout",
     "output_type": "stream",
     "text": [
      "Accuracy: 94.67% +/- 3.47%\n",
      "The 1st instance is predicted to belong to class: [0]\n",
      "The probabilities of belonging to each one of the classes are estimated as: [[1.0e+00 1.8e-14]]\n"
     ]
    }
   ],
   "source": [
    "X_train, X_test, y_train, y_test = train_test_split(bc.data, bc.target, test_size=0.33,random_state=45)\n",
    "clf = linear_model.LogisticRegression(penalty='l1')\n",
    "clf.fit(bc.data, bc.target)\n",
    "scores = cross_val_score(clf, X_test, y_test, cv=5)\n",
    "print(\"Accuracy: {0:.2%} +/- {1:.2%}\".format(scores.mean(), scores.std() * 2))\n",
    "print('The 1st instance is predicted to belong to class:', clf.predict(bc.data[:1, :]))\n",
    "print('The probabilities of belonging to each one of the classes are estimated as:', clf.predict_proba(bc.data[:1, :]))"
   ]
  },
  {
   "cell_type": "markdown",
   "metadata": {},
   "source": [
    "### Cross Validation"
   ]
  },
  {
   "cell_type": "code",
   "execution_count": 24,
   "metadata": {},
   "outputs": [
    {
     "name": "stdout",
     "output_type": "stream",
     "text": [
      "Classification Report: - \n",
      "               precision    recall  f1-score   support\n",
      "\n",
      "           0       0.97      0.91      0.94        68\n",
      "           1       0.95      0.98      0.97       120\n",
      "\n",
      "   micro avg       0.96      0.96      0.96       188\n",
      "   macro avg       0.96      0.95      0.95       188\n",
      "weighted avg       0.96      0.96      0.96       188\n",
      "\n"
     ]
    },
    {
     "data": {
      "image/png": "[encoded data removed]",
      "text/plain": [
       "<Figure size 432x288 with 2 Axes>"
      ]
     },
     "metadata": {
      "needs_background": "light"
     },
     "output_type": "display_data"
    }
   ],
   "source": [
    "y_pred = clf.predict(X_test)\n",
    "plot_confusion_matrix(y_test, y_pred, classes=bc.target_names,\n",
    "                      title='Confusion matrix')\n",
    "print(\"Classification Report: - \\n\",classification_report(y_test, y_pred))"
   ]
  },
  {
   "cell_type": "markdown",
   "metadata": {},
   "source": [
    "### Goodness of fit\n",
    "\n",
    "Hyper-parameter **penalty='l1'** gives us a **94.67% +/- 3.47%** using a 5 fold cross-validation which is a **good balance** between maximizing accuracy and minimizing standard deviation as compared to the models we have so far.\n",
    "\n",
    "The **false negative cases is reduced to 6** which is good fit compared to all models so far.\n",
    "\n",
    "We also have a **high precision, recall and f-score.**\n",
    "\n",
    "The f-score is 96% which is the highest among all models so far.\n",
    "\n",
    "**Overfitting**\n",
    "Logistic regression is a linear model and overfitting can occur when the model is very complex, i.e. having too many parameters relative to the number of observations. A model that has been overfit has poor predictive performance, as it overreacts to minor fluctuations in the training data.\n",
    "\n",
    "To avoid overfitting, we use regularization. There are two typees of regularization, L1 and L2 and we check both of these as well as regularization strength using grid search."
   ]
  },
  {
   "cell_type": "markdown",
   "metadata": {},
   "source": [
    "### Tuning parameters further with grid search\n",
    "\n",
    "To search for the best parameters, we run a grid search with the following hyper parameters\n",
    "\n",
    "1. penalty : To check whether l1 or l2 penalty gives us a better result. \n",
    "2. C : We also check what is an optimal value for regularization strength. The hyper-parameter 'C' is 1 / lambda (which is an inverse of the penalty or regularization strength."
   ]
  },
  {
   "cell_type": "code",
   "execution_count": 25,
   "metadata": {},
   "outputs": [],
   "source": [
    "X_train, X_test, y_train, y_test = train_test_split(bc.data, bc.target, test_size=0.33,random_state=45)\n",
    "#Grid Search\n",
    "clf = linear_model.LogisticRegression()\n",
    "grid_values = {'penalty': ['l1', 'l2'], \\\n",
    "               'C':[1e-4,0.001,.009,0.01,.09,1,5,10,25,100,1000,1e4]}\n",
    "grid_clf_acc = GridSearchCV(clf, param_grid = grid_values, cv=5)\n",
    "grid_clf_acc.fit(X_train, y_train)\n",
    "y_pred_acc = grid_clf_acc.predict(X_test)"
   ]
  },
  {
   "cell_type": "code",
   "execution_count": 26,
   "metadata": {},
   "outputs": [
    {
     "name": "stdout",
     "output_type": "stream",
     "text": [
      "Best parameters and estimator set found on development set:\n",
      "\n",
      "{'C': 1000, 'penalty': 'l2'}\n",
      "LogisticRegression(C=1000, class_weight=None, dual=False, fit_intercept=True,\n",
      "          intercept_scaling=1, max_iter=100, multi_class='warn',\n",
      "          n_jobs=None, penalty='l2', random_state=None, solver='warn',\n",
      "          tol=0.0001, verbose=0, warm_start=False)\n",
      "Grid scores on development set:\n",
      "\n",
      "0.378 (+/-0.006) for {'C': 0.0001, 'penalty': 'l1'}\n",
      "0.924 (+/-0.044) for {'C': 0.0001, 'penalty': 'l2'}\n",
      "0.916 (+/-0.036) for {'C': 0.001, 'penalty': 'l1'}\n",
      "0.927 (+/-0.035) for {'C': 0.001, 'penalty': 'l2'}\n",
      "0.924 (+/-0.035) for {'C': 0.009, 'penalty': 'l1'}\n",
      "0.932 (+/-0.041) for {'C': 0.009, 'penalty': 'l2'}\n",
      "0.924 (+/-0.035) for {'C': 0.01, 'penalty': 'l1'}\n",
      "0.932 (+/-0.041) for {'C': 0.01, 'penalty': 'l2'}\n",
      "0.927 (+/-0.042) for {'C': 0.09, 'penalty': 'l1'}\n",
      "0.937 (+/-0.080) for {'C': 0.09, 'penalty': 'l2'}\n",
      "0.950 (+/-0.072) for {'C': 1, 'penalty': 'l1'}\n",
      "0.950 (+/-0.072) for {'C': 1, 'penalty': 'l2'}\n",
      "0.953 (+/-0.075) for {'C': 5, 'penalty': 'l1'}\n",
      "0.955 (+/-0.075) for {'C': 5, 'penalty': 'l2'}\n",
      "0.963 (+/-0.038) for {'C': 10, 'penalty': 'l1'}\n",
      "0.955 (+/-0.075) for {'C': 10, 'penalty': 'l2'}\n",
      "0.963 (+/-0.042) for {'C': 25, 'penalty': 'l1'}\n",
      "0.961 (+/-0.054) for {'C': 25, 'penalty': 'l2'}\n",
      "0.966 (+/-0.035) for {'C': 100, 'penalty': 'l1'}\n",
      "0.955 (+/-0.075) for {'C': 100, 'penalty': 'l2'}\n",
      "0.963 (+/-0.025) for {'C': 1000, 'penalty': 'l1'}\n",
      "0.969 (+/-0.039) for {'C': 1000, 'penalty': 'l2'}\n",
      "0.963 (+/-0.025) for {'C': 10000.0, 'penalty': 'l1'}\n",
      "0.955 (+/-0.075) for {'C': 10000.0, 'penalty': 'l2'}\n"
     ]
    }
   ],
   "source": [
    "print(\"Best parameters and estimator set found on development set:\")\n",
    "print()\n",
    "print(grid_clf_acc.best_params_)\n",
    "print (grid_clf_acc.best_estimator_)\n",
    "print(\"Grid scores on development set:\")\n",
    "print()\n",
    "means = grid_clf_acc.cv_results_['mean_test_score']\n",
    "stds = grid_clf_acc.cv_results_['std_test_score']\n",
    "for mean, std, params in zip(means, stds, grid_clf_acc.cv_results_['params']):\n",
    "    print(\"%0.3f (+/-%0.03f) for %r\"\n",
    "          % (mean, std * 2, params))"
   ]
  },
  {
   "cell_type": "markdown",
   "metadata": {},
   "source": [
    "### Goodness of fit\n",
    "\n"
   ]
  },
  {
   "cell_type": "code",
   "execution_count": 27,
   "metadata": {},
   "outputs": [
    {
     "name": "stdout",
     "output_type": "stream",
     "text": [
      "Using grid search, we acheive hyper parameters with accuracy of 94.71%\n",
      "Classification Report: - \n",
      "               precision    recall  f1-score   support\n",
      "\n",
      "           0       0.97      0.90      0.93        68\n",
      "           1       0.94      0.98      0.96       120\n",
      "\n",
      "   micro avg       0.95      0.95      0.95       188\n",
      "   macro avg       0.96      0.94      0.95       188\n",
      "weighted avg       0.95      0.95      0.95       188\n",
      "\n"
     ]
    },
    {
     "data": {
      "text/plain": [
       "<matplotlib.axes._subplots.AxesSubplot at 0x20bc076aeb8>"
      ]
     },
     "execution_count": 27,
     "metadata": {},
     "output_type": "execute_result"
    },
    {
     "data": {
      "image/png": "[encoded data removed]",
      "text/plain": [
       "<Figure size 432x288 with 2 Axes>"
      ]
     },
     "metadata": {
      "needs_background": "light"
     },
     "output_type": "display_data"
    }
   ],
   "source": [
    "# New Model Evaluation metrics \n",
    "print (\"Using grid search, we acheive hyper parameters with accuracy of {0:.2%}\".format(grid.best_score_))\n",
    "print(\"Classification Report: - \\n\",classification_report(y_test, y_pred_acc))\n",
    "#Logistic Regression (Grid Search) Confusion matrix\n",
    "plot_confusion_matrix(y_test, y_pred_acc, classes=bc.target_names,\n",
    "                      title='Confusion matrix')"
   ]
  },
  {
   "cell_type": "markdown",
   "metadata": {},
   "source": [
    "Logistic regression grid search with a 5 fold cross validation tells us that the best parameters are **C: 1000, penalty: 'l2'**\n",
    "\n",
    "This gives us a high precision and recall of 95%, accuracy of 94% and a **very good f1-score of 95%** which is the highest so far.\n",
    "\n",
    "To avoid overfitting, we use regularization by a L2 penalty and a C parameter value = 1000. Using this, we get an accuracy of 94.71%. Our grid search data also tells us that these parameters maximize accuracy and minimize standard deviation.  94.67% +/- 3.47%."
   ]
  },
  {
   "cell_type": "markdown",
   "metadata": {},
   "source": [
    "## Model Selection and Tuning\n",
    "\n",
    "**Comparing all the models that have been analysed so far:-**\n",
    "\n",
    "| Model | Best Parameters (Using GridSearchCV) | Accuracy | F1 Score | Number of False Negatives |\n",
    "| :--- | :---: | ---: | ---: | ---: |\n",
    "| Decision Tree | criterion: gini, max_depth: 3, min_impurity_decrease: 1e-07, min_samples_leaf: 4 | **95.67%** | 94% | 8 |\n",
    "| K Nearest Neighbours | n_neighbors: 18, weights: uniform | 94.71% | 92% | 11 |\n",
    "| **Logistic Regression** | C: 1000 penalty: l2 | 94.71% | **95%** | **7** |\n",
    "\n",
    "Even though **Decision Tree** gives us the highest accuracy of 95.67%, it is more important to look at F Score which is a harmonic mean of precision and recall and provides a good balance between these to provide a good accuracy measure. **Logistic Regression** gives us the highest F Score of 95% with a decently good accuracy of 94.71%.\n",
    "\n",
    "Being a medical case, **False Negatives** can be a big problem as it is a matter of life and death.  **Logistic Regression** with C: 1000 penalty: l2 hyper parameters, also acheives a minimum number of false negatives (of 7) as seen in the confusion matrix. For these results, we use regularization by a L2 penalty and a C parameter value = 1000.\n",
    "\n",
    "Even though we get a high accuracy of 94.71% with **K Nearest Neighbours** classification, the F1 Score is lower than other model (92%) as well as a high number of False Negatives which is bad.\n",
    "\n",
    "Based on the above analyses, we can conculde that among the 3 models discussed, Logistic regression gives us a good fit for classifying breast cancer cells and **malignant or benign**. "
   ]
  },
  {
   "cell_type": "code",
   "execution_count": null,
   "metadata": {},
   "outputs": [],
   "source": []
  }
 ],
 "metadata": {
  "anaconda-cloud": {},
  "kernelspec": {
   "display_name": "Python 3",
   "language": "python",
   "name": "python3"
  },
  "language_info": {
   "codemirror_mode": {
    "name": "ipython",
    "version": 3
   },
   "file_extension": ".py",
   "mimetype": "text/x-python",
   "name": "python",
   "nbconvert_exporter": "python",
   "pygments_lexer": "ipython3",
   "version": "3.7.3"
  }
 },
 "nbformat": 4,
 "nbformat_minor": 1
}
